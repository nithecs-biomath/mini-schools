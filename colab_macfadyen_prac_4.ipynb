{
  "cells": [
    {
      "cell_type": "markdown",
      "metadata": {
        "colab_type": "text",
        "id": "view-in-github"
      },
      "source": [
        "<a href=\"https://colab.research.google.com/github/nithecs-biomath/mini-schools/blob/main/colab_macfadyen_prac_4.ipynb\" target=\"_parent\"><img src=\"https://colab.research.google.com/assets/colab-badge.svg\" alt=\"Open In Colab\"/></a>"
      ]
    },
    {
      "cell_type": "markdown",
      "id": "627fbb04",
      "metadata": {
        "id": "627fbb04"
      },
      "source": [
        "# Biodiversity Monitoring using Data Cubes\n",
        "## Techniques & Applications for Open Science\n",
        "\n",
        "### Open Science: A practical guide to sharing and disseminating results from Data Cubes\n",
        "\n",
        "Open Science plays a crucial role in biodiversity monitoring, particularly by fostering collaboration and transparency in research. In the context of our mini-school, \"Empowering Biodiversity Monitoring through Data Cubes,\" we emphasize sharing data and methods to enhance reproducibility and impact. We’ll introduce GitHub for version control and Zenodo for archiving outputs.\n",
        "\n",
        "### Background Information\n",
        "\n",
        "Open science makes research more transparent, accessible, and reproducible. In biodiversity, it supports SDG 17 (Partnerships for the Goals). Data cubes give us a practical way to share data, code, and results for reuse and validation.\n",
        "\n",
        "**Open Science Principles**  \n",
        "1. **Transparency**: Share data, code, methods, and interpretations.  \n",
        "2. **Accessibility**: Make outputs freely available to all stakeholders.  \n",
        "3. **Reproducibility**: Provide complete workflows so others can replicate findings.\n",
        "\n",
        "### Tools for Open Science in Biodiversity Monitoring\n",
        "1. [**GitHub**](https://github.com/): GitHub is a widely used platform for version control and sharing code. It allows researchers to store, manage, and share code for analyses, as well as documentation and tutorials. GitHub repositories can be linked to services like Zenodo to generate Digital Object Identifiers (DOIs), which formalize citation and credit for code and datasets.\n",
        "\n",
        "2. [**Zenodo**](https://zenodo.org/):Zenodo is an open-access repository developed by CERN, designed to store and share research outputs, including datasets, code, and publications. It allows researchers to easily archive their research in compliance with Open Science mandates and provides DOIs to ensure proper citation.\n",
        "\n",
        "3. [**GBIF**](https://www.gbif.org/) (Global Biodiversity Information Facility): GBIF is a global database that allows sharing and accessing biodiversity data. Researchers can upload occurrence data from their studies and also retrieve datasets for analysis, ensuring transparency and accessibility in data sharing. The South African National Biodiversity Institute ([SANBI](https://www.sanbi.org/)), funded by the Department of Science and Innovation ([DSTI](https://www.dsti.gov.za/)), hosts the South African Voting Node of GBIF ([SANBI-GBIF](https://www.sanbi-gbif.org/)).\n",
        "\n",
        "4. [**Dryad**](https://datadryad.org/): Dryad is a curated resource for the open publication of datasets. It specializes in datasets related to biology and ecology, ensuring that research data is well-preserved, accessible, and easily citable.\n",
        "\n",
        "5. [**Figshare**](https://info.figshare.com/): Figshare is another general-purpose open repository where researchers can share research data, figures, and even entire projects. It provides detailed metadata and generates DOIs for uploaded content, promoting reuse and citation.\n",
        "\n",
        "6. [**OpenAIRE**](https://explore.openaire.eu/): OpenAIRE is an open science infrastructure that supports the European Commission’s Open Science agenda. It provides a platform for publishing and sharing research outputs, with a focus on making research easily accessible and interoperable.\n",
        "\n",
        "7. [**Open Research Europe**](https://www.ore.eu/): This platform offers open access to articles across a wide range of disciplines, including biodiversity. It emphasizes immediate publication followed by open peer review, promoting transparency and accessibility in scientific communication.\n",
        "\n",
        "8. [**DataONE**](https://www.dataone.org/): DataONE provides access to earth and environmental data from various repositories. It promotes best practices in data management, ensuring that data is shared in a way that supports reproducibility and reuse in biodiversity research.\n",
        "\n",
        "9. [**OSF**](https://osf.io/) (Open Science Framework): OSF is a platform for managing, sharing, and registering research projects. It allows researchers to share their work at any stage, from initial planning and data collection to analysis and publication.\n",
        "\n",
        "### Best Practices for Open Science in Biodiversity Research\n",
        "\n",
        "- **Pre-registration**: Documenting research hypotheses, methodologies, and analysis plans before data collection helps prevent bias and ensures transparency.\n",
        "- **Sharing Data and Code**: Releasing datasets and code alongside publications ensures that others can validate and build on the research. Using repositories like GitHub, Zenodo, and GBIF helps promote reuse.\n",
        "- **Documentation and Metadata**: Providing thorough documentation, including metadata, enhances the accessibility and usability of shared resources.\n",
        "- **Collaborative Platforms**: Tools like GitHub, OSF, and DataONE allow for ongoing collaboration and version control, ensuring that research remains transparent throughout its lifecycle.\n",
        "\n",
        "By incorporating these tools and principles, this final lecture will provide a comprehensive understanding of how open science enhances biodiversity monitoring, making research outputs more impactful, collaborative, and aligned with global sustainability goals.\n",
        "\n",
        "---\n"
      ]
    },
    {
      "cell_type": "markdown",
      "id": "5c54e8b8",
      "metadata": {
        "id": "5c54e8b8"
      },
      "source": [
        "\n",
        "![](https://github.com/nithecs-biomath/mini-schools/blob/main/img/r_colab_300.png?raw=1)\n",
        "\n",
        "## Hands-on with R in Colab\n",
        "\n",
        "### Install missing libraries\n",
        "First, ensure that all required packages are available. The following chunk checks for—and installs if necessary—the core packages for HTTP requests, spatial work, data manipulation, and plotting."
      ]
    },
    {
      "cell_type": "code",
      "execution_count": null,
      "id": "3b7e4f37",
      "metadata": {
        "colab": {
          "base_uri": "https://localhost:8080/"
        },
        "id": "3b7e4f37",
        "outputId": "7d8301a4-7f10-4901-f571-a2011ef89500"
      },
      "outputs": [
        {
          "name": "stderr",
          "output_type": "stream",
          "text": [
            "Installing package into ‘/usr/local/lib/R/site-library’\n",
            "(as ‘lib’ is unspecified)\n",
            "\n",
            "also installing the dependencies ‘proxy’, ‘e1071’, ‘wk’, ‘classInt’, ‘s2’, ‘units’\n",
            "\n",
            "\n"
          ]
        }
      ],
      "source": [
        "# Can take > 20 mins, depending on network speed\n",
        "pkgs = c(\"httr\", \"jsonlite\", \"sf\", \"ggplot2\", \"zip\", \"tmap\", \"reticulate\", \"tidyr\", \"dplyr\", \"data.table\")\n",
        "# for(p in pkgs){if (!requireNamespace(p, quietly = TRUE)) install.packages(p) # `quietly = FALSE` to see progress}\n",
        "\n",
        "for(p in pkgs){\n",
        "  if (!requireNamespace(p, quietly = TRUE)) install.packages(p, dependencies = c(\"Depends\",\"Imports\")) # Don't included suggested other packages\n",
        "}\n"
      ]
    },
    {
      "cell_type": "markdown",
      "id": "0472aab5",
      "metadata": {
        "id": "0472aab5"
      },
      "source": [
        "### Load libraries\n",
        "Load all packages into the session so we can make HTTP calls, parse JSON, manipulate tables, handle spatial objects, and produce maps."
      ]
    },
    {
      "cell_type": "code",
      "execution_count": null,
      "id": "9c056adf",
      "metadata": {
        "id": "9c056adf"
      },
      "outputs": [],
      "source": [
        "# Load all libraries\n",
        "library(ggplot2)    # plotting\n",
        "library(sf)         # spatial data\n",
        "library(httr)       # HTTP\n",
        "library(jsonlite)   # JSON\n",
        "library(zip)        # unzip\n",
        "library(tidyr)      # data tidying\n",
        "library(dplyr)      # data manipulation\n",
        "library(data.table) # fast I/O\n",
        "library(utils)      # unzip, read.delim"
      ]
    },
    {
      "cell_type": "markdown",
      "id": "7338e5b1",
      "metadata": {
        "id": "7338e5b1"
      },
      "source": [
        "---\n",
        "\n",
        "![](https://github.com/nithecs-biomath/mini-schools/blob/main/img/gbif_300.png?raw=1)\n",
        "\n",
        "### Download GBIF Occurrence Data\n",
        "Use the helper function to fetch a GBIF occurrence download (as a ZIP) via the GBIF API, then select a subset of key columns for analysis."
      ]
    },
    {
      "cell_type": "markdown",
      "id": "46c789f5",
      "metadata": {
        "id": "46c789f5"
      },
      "source": [
        "#### New function `load_from_url_zip()`: Load CSV from ZIP URL\n",
        "Define a reusable function load_from_url_zip() that downloads a ZIP archive from a URL, extracts the first CSV found inside, and returns it as a data frame."
      ]
    },
    {
      "cell_type": "code",
      "execution_count": null,
      "id": "da2fb532",
      "metadata": {
        "id": "da2fb532"
      },
      "outputs": [],
      "source": [
        "# Create a new function `load_from_url_zip()` to load CSV from GBIF .zip URL\n",
        "load_from_url_zip = function(zip_url) {\n",
        "  res = httr::GET(zip_url)\n",
        "  if (httr::status_code(res) != 200) {\n",
        "    stop(\"Download failed: \", httr::status_code(res))\n",
        "  }\n",
        "  tmp = tempfile(fileext = \".zip\")\n",
        "  writeBin(httr::content(res, \"raw\"), tmp)\n",
        "  files = utils::unzip(tmp, list = TRUE)$Name\n",
        "  csv  = files[grepl(\"\\\\.csv$\", files)]\n",
        "  utils::unzip(tmp, csv, exdir = tempdir())\n",
        "  path = file.path(tempdir(), csv)\n",
        "  df = data.table::fread(path, sep = \"\\t\", fill = TRUE, data.table = FALSE)\n",
        "  unlink(c(tmp, path))\n",
        "  df\n",
        "}"
      ]
    },
    {
      "cell_type": "markdown",
      "id": "076487e7",
      "metadata": {
        "id": "076487e7"
      },
      "source": [
        "Use the helper function, `load_from_url_zip()`, to fetch a GBIF occurrence download (as a ZIP) via the GBIF API, then select a subset of key columns for analysis."
      ]
    },
    {
      "cell_type": "code",
      "execution_count": null,
      "id": "77c3a2fc",
      "metadata": {
        "id": "77c3a2fc"
      },
      "outputs": [],
      "source": [
        "# Get GBIF .zip download URL from https://www.gbif.org/occurrence/download/0038969-240906103802322\n",
        "url_zip = \"https://api.gbif.org/v1/occurrence/download/request/0038969-240906103802322.zip\"\n",
        "df_url  = load_from_url_zip(url_zip)\n",
        "df_url  = df_url[, c(\"year\",\"month\",\"family\",\"speciesKey\",\"species\",\"decimalLatitude\",\"decimalLongitude\")]\n",
        "head(df_url, 4)"
      ]
    },
    {
      "cell_type": "markdown",
      "id": "3c0f318e",
      "metadata": {
        "id": "3c0f318e"
      },
      "source": [
        "---\n",
        "\n",
        "![](https://github.com/nithecs-biomath/mini-schools/blob/main/img/github_300.png?raw=1)\n",
        "\n",
        "### Read sample CSV from GitHub\n",
        "Demonstrate reading a tab‐delimited sample dataset hosted on GitHub."
      ]
    },
    {
      "cell_type": "code",
      "execution_count": null,
      "id": "4bbf099b",
      "metadata": {
        "id": "4bbf099b"
      },
      "outputs": [],
      "source": [
        "# Get the URL from https://github.com/nithecs-biomath/mini-schools/data\n",
        "git_file_1 = 'https://raw.githubusercontent.com/nithecs-biomath/mini-schools/main/data/sample_data_SA.csv'\n",
        "za_data = read.delim(git_file_1, sep = \"\\t\")\n",
        "head(za_data, 4)"
      ]
    },
    {
      "cell_type": "markdown",
      "id": "7bfa8204",
      "metadata": {
        "id": "7bfa8204"
      },
      "source": [
        "#### Split year-month and preview\n",
        "Separate the combined yearmonth string into distinct year and month columns for easier grouping."
      ]
    },
    {
      "cell_type": "code",
      "execution_count": null,
      "id": "4f428ed9",
      "metadata": {
        "id": "4f428ed9"
      },
      "outputs": [],
      "source": [
        "# Split `yearmonth` date format into separate columns\n",
        "za_data = za_data %>%\n",
        "  separate(yearmonth, into = c(\"year\",\"month\"), sep = \"-\")\n",
        "head(za_data, 4)"
      ]
    },
    {
      "cell_type": "markdown",
      "id": "8b8c848c",
      "metadata": {
        "id": "8b8c848c"
      },
      "source": [
        "#### Read and select GBIF CSV on GitHub\n",
        "Alternatively, read the unzipped GBIF CSV directly from GitHub and select key columns again."
      ]
    },
    {
      "cell_type": "code",
      "execution_count": null,
      "id": "343b3585",
      "metadata": {
        "id": "343b3585"
      },
      "outputs": [],
      "source": [
        "# Get the URL from https://github.com/nithecs-biomath/mini-schools/data\n",
        "git_file_2 = 'https://raw.githubusercontent.com/nithecs-biomath/mini-schools/main/data/0038969-240906103802322.csv'\n",
        "data_csv = read.delim(git_file_2, sep = \"\\t\")\n",
        "\n",
        "# Select the columns to keep\n",
        "data_csv = data_csv %>%\n",
        "  select(year, month, family, speciesKey, species, decimalLatitude, decimalLongitude)\n",
        "head(data_csv, 4)"
      ]
    },
    {
      "cell_type": "markdown",
      "id": "9bced364",
      "metadata": {
        "id": "9bced364"
      },
      "source": [
        "#### Convert to sf and inspect bounds\n",
        "Convert the GBIF table to an sf points object and inspect its geographic extent."
      ]
    },
    {
      "cell_type": "code",
      "execution_count": null,
      "id": "f19dbff5",
      "metadata": {
        "id": "f19dbff5"
      },
      "outputs": [],
      "source": [
        "# Turn the data.frame into a spatial object\n",
        "species_points = st_as_sf(\n",
        "  data_csv,\n",
        "  coords = c(\"decimalLongitude\",\"decimalLatitude\"),\n",
        "  crs = 4326\n",
        ")\n",
        "\n",
        "# Get the extent (bounding box) of the points\n",
        "bounds = st_bbox(species_points)\n",
        "bounds"
      ]
    },
    {
      "cell_type": "markdown",
      "id": "56658c18",
      "metadata": {
        "id": "56658c18"
      },
      "source": [
        "#### Create quarter-degree grid and spatial join\n",
        "Generate a 0.25° grid across the point extent, assign unique cell IDs, and spatially join observation points to grid cells."
      ]
    },
    {
      "cell_type": "code",
      "execution_count": null,
      "id": "4e818709",
      "metadata": {
        "id": "4e818709"
      },
      "outputs": [],
      "source": [
        "# Define cell size (0.25 for quarter-degree)\n",
        "cell_size = 0.25\n",
        "\n",
        "# Create the grid (xmin, ymin, xmax, ymax)\n",
        "grid = st_make_grid(\n",
        "  species_points,\n",
        "  cellsize = c(cell_size, cell_size),\n",
        "  square = TRUE,\n",
        "  what = \"polygons\"\n",
        ")\n",
        "\n",
        "# Convert grid to an sf object and assign grid IDs\n",
        "grid_sf = st_sf(geometry = grid)\n",
        "grid_sf$gridID = 1:nrow(grid_sf)\n",
        "print(head(grid_sf))\n",
        "\n",
        "# Perform spatial join to assign species to grid cells\n",
        "species_in_grid = st_join(species_points, grid_sf, left = FALSE)\n",
        "print(head(species_in_grid))"
      ]
    },
    {
      "cell_type": "markdown",
      "id": "31082806",
      "metadata": {
        "id": "31082806"
      },
      "source": [
        "#### Count unique species per cell\n",
        "Aggregate the joined data to compute the number of distinct species observed in each grid cell."
      ]
    },
    {
      "cell_type": "code",
      "execution_count": null,
      "id": "61c6c8ab",
      "metadata": {
        "id": "61c6c8ab"
      },
      "outputs": [],
      "source": [
        "# Use dplyr to summarise records\n",
        "species_count = species_in_grid %>%\n",
        "  group_by(gridID) %>%\n",
        "  summarise(unique_species = n_distinct(species))\n",
        "head(species_count, 4)\n",
        "\n",
        "# Perform spatial join to assign species to grid cells\n",
        "count_in_grid = st_join(grid_sf, species_count, left = FALSE)\n",
        "head(count_in_grid[,-c(3,4)], 4)"
      ]
    },
    {
      "cell_type": "markdown",
      "id": "0b80528d",
      "metadata": {
        "id": "0b80528d"
      },
      "source": [
        "#### Plot species richness on grid\n",
        "Visualise the spatial pattern of species richness using a viridis color scale."
      ]
    },
    {
      "cell_type": "code",
      "execution_count": null,
      "id": "ac687a3a",
      "metadata": {
        "id": "ac687a3a"
      },
      "outputs": [],
      "source": [
        "# Clear the current plot page (if needed)\n",
        "# grid::grid.newpage()\n",
        "\n",
        "# adjust plot size\n",
        "options(repr.plot.width = 8, repr.plot.height = 8)\n",
        "\n",
        "ggplot() +\n",
        "  geom_sf(data = count_in_grid, aes(fill = unique_species)) +\n",
        "  scale_fill_viridis_c(direction = -1) +\n",
        "  theme_minimal() +\n",
        "  labs(\n",
        "    title = \"Quarter-Degree Grid: Count of Unique Species\",\n",
        "    fill  = \"Unique species\"\n",
        "  )"
      ]
    },
    {
      "cell_type": "markdown",
      "id": "5f395c6b",
      "metadata": {
        "id": "5f395c6b"
      },
      "source": [
        "**Enhanced Plot with Custom Gradient**: For presentations or publications, apply a bespoke color gradient and increase text sizes for clarity."
      ]
    },
    {
      "cell_type": "code",
      "execution_count": null,
      "id": "436e8120",
      "metadata": {
        "id": "436e8120"
      },
      "outputs": [],
      "source": [
        "# Increase plot size within Colab\n",
        "options(repr.plot.width = 12, repr.plot.height = 12)\n",
        "\n",
        "# Plot the grid with colors representing the count of unique species\n",
        "ggplot() +\n",
        "  geom_sf(data = count_in_grid, aes(fill = unique_species)) +\n",
        "\n",
        "  # Custom color gradient: blue, green, yellow, orange, red\n",
        "  scale_fill_gradientn(colors = c(\"blue\", \"green\", \"yellow\", \"orange\", \"red\")) +\n",
        "\n",
        "  # Adjust plot size for larger display in Colab\n",
        "  theme_minimal() +\n",
        "  ggtitle(\"Quarter-Degree Grid: Count of Unique Species\") +\n",
        "\n",
        "  # Use theme to adjust the plot size\n",
        "  theme(\n",
        "    plot.title = element_text(size = 20, face = \"bold\"),  # Increase title size\n",
        "    legend.title = element_text(size = 14),               # Increase legend title size\n",
        "    legend.text = element_text(size = 12),                # Increase legend text size\n",
        "    axis.title = element_text(size = 14),                 # Increase axis title size\n",
        "    axis.text = element_text(size = 12),                  # Increase axis text size\n",
        "    plot.margin = margin(10, 10, 10, 10),                 # Add margin for better visibility\n",
        "    plot.background = element_rect(fill = \"white\")        # Make sure the background is white\n",
        "  )"
      ]
    },
    {
      "cell_type": "markdown",
      "id": "0aa0658b",
      "metadata": {
        "id": "0aa0658b"
      },
      "source": [
        "---\n",
        "\n",
        "![](https://github.com/nithecs-biomath/mini-schools/blob/main/img/zenodo_300.png?raw=1)\n",
        "\n",
        "### Read CSV from Zenodo\n",
        "Below we demonstrate two approaches for accessing and inspecting a CSV dataset hosted on Zenodo:\n",
        "\n",
        "1. **Direct download** — grab the file URL and load it into R.  \n",
        "2. **API exploration** — query the Zenodo REST API to discover file metadata, then download and read the CSV.\n",
        "\n",
        "#### Direct Download and Load\n",
        "Use a fixed URL to fetch the CSV and inspect its dimensions and a preview of key columns. The example below is for Western Indian Ocean coral diversity observations from 1998–2022 ([DOI: 10.5061/dryad.3xsj3txn1](https://zenodo.org/records/8299696))."
      ]
    },
    {
      "cell_type": "code",
      "execution_count": null,
      "id": "f62616b5",
      "metadata": {
        "id": "f62616b5"
      },
      "outputs": [],
      "source": [
        "# Define the download URL for the CSV file\n",
        "file_url = \"https://zenodo.org/records/8299696/files/WesternIndianOceanCoralDiversity.csv?download=1\"\n",
        "file_name = \"WesternIndianOceanCoralDiversity.csv\"\n",
        "\n",
        "# Download the file from Zenodo\n",
        "download.file(file_url, destfile = file_name)\n",
        "\n",
        "# Load the dataset (assuming it's a CSV file)\n",
        "data = read.csv(file_name)\n",
        "\n",
        "# View the first few rows of the data\n",
        "print(dim(data))\n",
        "print(head(data[,c(2,3,5,8,10,11,14:17,40)], 4))"
      ]
    },
    {
      "cell_type": "markdown",
      "id": "98594a0e",
      "metadata": {
        "id": "98594a0e"
      },
      "source": [
        "#### Discover via the Zenodo API\n",
        "First, retrieve the record’s metadata (including file listings) from Zenodo’s API. Then locate the CSV file URL programmatically."
      ]
    },
    {
      "cell_type": "code",
      "execution_count": null,
      "id": "d45e696e",
      "metadata": {
        "id": "d45e696e"
      },
      "outputs": [],
      "source": [
        "# Define Zenodo API URL and dataset DOI\n",
        "zenodo_api_url = \"https://zenodo.org/api/records/\"\n",
        "record_id = \"8299696\"  # Record ID for your specific dataset\n",
        "\n",
        "# Fetch the metadata for the Zenodo record\n",
        "response = GET(paste0(zenodo_api_url, record_id))\n",
        "metadata = fromJSON(content(response, as = \"text\", encoding = \"UTF-8\"))\n",
        "\n",
        "# View the metadata\n",
        "# print(metadata)\n",
        "\n",
        "# Check the files available in this record\n",
        "files = metadata$files\n",
        "# print(files)\n",
        "str(files)\n",
        "\n",
        "# Find the CSV file in the record\n",
        "csv_row_index = which(grepl(\"\\\\.csv$\", files$key))  # Find the row index of the CSV file\n",
        "csv_file_url = files[csv_row_index, \"links\"]$self # Extract the download URL\n",
        "csv_filename = files[csv_row_index, \"key\"]        # Extract the filename\n",
        "\n",
        "# Print the extracted information\n",
        "print(csv_file_url)\n",
        "print(csv_filename)"
      ]
    },
    {
      "cell_type": "markdown",
      "id": "93938531",
      "metadata": {
        "id": "93938531"
      },
      "source": [
        "#### Download via API-Derived URL\n",
        "Use the URL discovered above to download and load the CSV, then preview the same key columns."
      ]
    },
    {
      "cell_type": "code",
      "execution_count": null,
      "id": "1289e2d8",
      "metadata": {
        "id": "1289e2d8"
      },
      "outputs": [],
      "source": [
        "# Download the file from Zenodo\n",
        "download.file(csv_file_url, destfile = csv_filename, mode = \"wb\") # Use mode = \"wb\" on Windows to ensure the file is written in binary mode.\n",
        "\n",
        "# Load the dataset (assuming it's a CSV file)\n",
        "data = read.csv(csv_filename)\n",
        "\n",
        "# View the first few rows of the data\n",
        "print(head(data[,c(2,3,5,8,10,11,14:17,40)], 4)) # Adjust column indices in head() to focus on columns of interest."
      ]
    },
    {
      "cell_type": "markdown",
      "id": "e7f57182",
      "metadata": {
        "id": "e7f57182"
      },
      "source": [
        "---\n",
        "\n",
        "## BONUS SECTION\n",
        "\n",
        "In this bonus section, we demonstrate how to pull, clean, and visualise biodiversity occurrence data from iNaturalist for South Africa. We will:\n",
        "\n",
        "1. **Install and load** the necessary R packages.  \n",
        "2. **Download** monthly observations from 2012–2023.  \n",
        "3. **Filter** out records with missing spatial or temporal information.  \n",
        "4. **Crop** the data to the South African mainland.  \n",
        "5. **Plot** the spatial distribution of observations.  \n",
        "6. **Summarise and plot** species richness over time with confidence intervals.\n",
        "\n",
        "---\n",
        "\n",
        "### Package Installation\n",
        "\n",
        "Before we begin, make sure you have the required packages. The following chunk checks for—and installs if missing—`rinat`, `lubridate`, `rnaturalearth`, and `rnaturalearthdata`."
      ]
    },
    {
      "cell_type": "code",
      "execution_count": null,
      "id": "d825f372",
      "metadata": {
        "id": "d825f372"
      },
      "outputs": [],
      "source": [
        "# Install necessary packages\n",
        "if (!requireNamespace(\"rinat\", quietly = TRUE)) {\n",
        "  install.packages(\"rinat\")\n",
        "}\n",
        "if (!requireNamespace(\"lubridate\", quietly = TRUE)) {\n",
        "  install.packages(\"lubridate\")\n",
        "}\n",
        "if (!requireNamespace(\"rnaturalearth\", quietly = TRUE)) {\n",
        "  install.packages(\"rnaturalearth\")\n",
        "}\n",
        "if (!requireNamespace(\"rnaturalearthdata\", quietly = TRUE)) {\n",
        "  install.packages(\"rnaturalearthdata\")\n",
        "}"
      ]
    },
    {
      "cell_type": "markdown",
      "id": "81046636",
      "metadata": {
        "id": "81046636"
      },
      "source": [
        "### Loading Libraries\n",
        "Load all packages needed for data retrieval, date handling, and mapping."
      ]
    },
    {
      "cell_type": "code",
      "execution_count": null,
      "id": "2229ea27",
      "metadata": {
        "id": "2229ea27"
      },
      "outputs": [],
      "source": [
        "library(rinat)\n",
        "library(lubridate)\n",
        "library(rnaturalearth)\n",
        "library(rnaturalearthdata)"
      ]
    },
    {
      "cell_type": "markdown",
      "id": "5c8c785d",
      "metadata": {
        "id": "5c8c785d"
      },
      "source": [
        "---\n",
        "\n",
        "![](https://github.com/nithecs-biomath/mini-schools/blob/main/img/inaturalist_300.png?raw=1)\n",
        "\n",
        "### Downloading iNaturalist Observations\n",
        "We loop through each month from 2012 to 2023, requesting up to 50 observations per month for South Africa (place_id = 6986).\n",
        "\n"
      ]
    },
    {
      "cell_type": "code",
      "execution_count": null,
      "id": "45a2cec4",
      "metadata": {
        "id": "45a2cec4"
      },
      "outputs": [],
      "source": [
        "# # Download iNaturalist observations for South Africa\n",
        "# # Example: Get data from iNaturalist for a specific year\n",
        "# obs_2023 = get_inat_obs(\n",
        "#   taxon_name = \"Lepidoptera\", # Search for only butterflies (order Lepidoptera)\n",
        "#   place_id = 6986,         # South Africa\n",
        "#   year = 2023,\n",
        "#   maxresults = 50\n",
        "# )\n",
        "# print(head(obs_2023, 2))\n",
        "\n",
        "# # Download iNaturalist observations for South Africa for multiple years:\n",
        "years = 2012:2023\n",
        "inat_data <- do.call(rbind, lapply(years, function(y) {\n",
        "  tryCatch(\n",
        "    get_inat_obs(\n",
        "      taxon_name = \"Lepidoptera\", # Search for only butterflies (order Lepidoptera)\n",
        "      place_id = 6986, \n",
        "      year = y,\n",
        "      maxresults = 50),\n",
        "      error = function(e) NULL\n",
        "  )\n",
        "}))\n",
        "\n",
        "print(head(inat_data, 4))"
      ]
    },
    {
      "cell_type": "markdown",
      "id": "3b571a2f",
      "metadata": {
        "id": "3b571a2f"
      },
      "source": [
        "### Filtering Records\n",
        "Remove any observations lacking coordinates or observation dates, then extract the observation year for later summaries."
      ]
    },
    {
      "cell_type": "code",
      "execution_count": null,
      "id": "8c321212",
      "metadata": {
        "id": "8c321212"
      },
      "outputs": [],
      "source": [
        "# Filter out records without coordinates and dates\n",
        "inat_data = inat_data %>%\n",
        "  filter(!is.na(longitude) & !is.na(latitude) & !is.na(observed_on))\n",
        "print(dim(inat_data))\n",
        "\n",
        "# Extract year from the date and calculate species richness\n",
        "inat_data = inat_data %>%\n",
        "  mutate(year = year(observed_on)) # Extract year from observed_on\n",
        "print(dim(inat_data))"
      ]
    },
    {
      "cell_type": "markdown",
      "id": "83419fbc",
      "metadata": {
        "id": "83419fbc"
      },
      "source": [
        "### Defining the Study Area\n",
        "Load the South Africa polygon and crop to a specified bounding box to exclude outlying islands or territories."
      ]
    },
    {
      "cell_type": "code",
      "execution_count": null,
      "id": "0169eaf0",
      "metadata": {
        "id": "0169eaf0"
      },
      "outputs": [],
      "source": [
        "# Load SA polygon\n",
        "south_africa = ne_countries(\n",
        "  scale      = \"medium\",\n",
        "  country    = \"South Africa\",\n",
        "  returnclass= \"sf\"\n",
        ")\n",
        "\n",
        "# Define your extent as an sf bbox (xmin, ymin, xmax, ymax)\n",
        "my_bbox = st_bbox(\n",
        "  c(xmin = 16.450,\n",
        "    ymin = -34.835,\n",
        "    xmax = 32.945,\n",
        "    ymax = -22.125),\n",
        "  crs = st_crs(south_africa)\n",
        ")\n",
        "\n",
        "# Crop\n",
        "south_africa_noIslands = st_crop(south_africa, my_bbox)\n",
        "# names(south_africa_noIslands)"
      ]
    },
    {
      "cell_type": "markdown",
      "id": "4c0888bf",
      "metadata": {
        "id": "4c0888bf"
      },
      "source": [
        "### Spatial Visualization\n",
        "Plot all filtered iNaturalist points over the mainland map to show their geographic distribution."
      ]
    },
    {
      "cell_type": "code",
      "execution_count": null,
      "id": "c15519ba",
      "metadata": {
        "id": "c15519ba"
      },
      "outputs": [],
      "source": [
        "# Increase plot size within Colab\n",
        "options(repr.plot.width = 10, repr.plot.height = 15)\n",
        "\n",
        "# Plot iNaturalist records on a map\n",
        "ggplot() +\n",
        "  geom_sf(data = south_africa_noIslands, fill = \"lightgreen\", color = \"black\") +\n",
        "  geom_point(data = inat_data, aes(x = longitude, y = latitude), color = \"blue\", alpha = 0.6) +\n",
        "  labs(title = \"iNaturalist Observations in South Africa\",\n",
        "       x = \"Longitude\", y = \"Latitude\") +\n",
        "  theme_minimal()"
      ]
    },
    {
      "cell_type": "markdown",
      "id": "db389ba1",
      "metadata": {
        "id": "db389ba1"
      },
      "source": [
        "### Temporal Trends in Species Richness\n",
        "Compute annual species richness and observation counts, estimate simple 95% confidence intervals, and plot the trend over time."
      ]
    },
    {
      "cell_type": "code",
      "execution_count": null,
      "id": "5d3e90ff",
      "metadata": {
        "id": "5d3e90ff"
      },
      "outputs": [],
      "source": [
        "# Group by year and calculate species richness and observation count per year\n",
        "yearly_stats = inat_data %>%\n",
        "  group_by(year) %>%\n",
        "  summarise(\n",
        "    species_richness = n_distinct(scientific_name),  # Unique species count\n",
        "    observation_count = n()  # Total observations\n",
        "  ) %>%\n",
        "  ungroup()\n",
        "\n",
        "# Add confidence intervals based on observation count\n",
        "# Assuming we can use a basic approximation for CI: 1.96 * (species richness / sqrt(observation count))\n",
        "yearly_stats = yearly_stats %>%\n",
        "  mutate(\n",
        "    ci_upper = species_richness + 1.96 * (species_richness / sqrt(observation_count)),\n",
        "    ci_lower = species_richness - 1.96 * (species_richness / sqrt(observation_count))\n",
        "  )\n",
        "\n",
        "# Increase plot size within Colab\n",
        "options(repr.plot.width = 15, repr.plot.height = 10)\n",
        "\n",
        "# Plot the species richness over time with confidence intervals\n",
        "ggplot(yearly_stats, aes(x = year, y = species_richness)) +\n",
        "  geom_line(color = \"blue\", size = 1) +\n",
        "  geom_ribbon(aes(ymin = ci_lower, ymax = ci_upper), alpha = 0.2, fill = \"lightblue\") +\n",
        "  labs(title = \"Species Richness Over Time (iNaturalist Observations)\",\n",
        "       x = \"Year\", y = \"Species Richness\") +\n",
        "  theme_minimal()"
      ]
    }
  ],
  "metadata": {
    "colab": {
      "include_colab_link": true,
      "provenance": []
    },
    "kernelspec": {
      "display_name": "base",
      "language": "python",
      "name": "python3"
    },
    "language_info": {
      "name": "python",
      "version": "3.11.5"
    }
  },
  "nbformat": 4,
  "nbformat_minor": 5
}
