{
  "cells": [
    {
      "cell_type": "markdown",
      "metadata": {
        "colab_type": "text",
        "id": "view-in-github"
      },
      "source": [
        "<a href=\"https://colab.research.google.com/github/nithecs-biomath/mini-schools/blob/main/open_science_zenodo_R_Rmd.ipynb\" target=\"_parent\"><img src=\"https://colab.research.google.com/assets/colab-badge.svg\" alt=\"Open In Colab\"/></a>"
      ]
    },
    {
      "cell_type": "markdown",
      "metadata": {
        "id": "1zEJHOpHEu81"
      },
      "source": [
        "# Biodiversity Monitoring using Data Cubes\n",
        "## Techniques & Applications for Open Science\n",
        "\n",
        "### Open Science: A practical guide to sharing and disseminating results from Data Cubes"
      ]
    },
    {
      "cell_type": "markdown",
      "metadata": {
        "id": "dabo5XfqFFEV"
      },
      "source": [
        "Open Science plays a crucial role in biodiversity monitoring, particularly by fostering collaboration and transparency in research. In the context of our mini-school, \"Empowering Biodiversity Monitoring through Data Cubes: Techniques & Applications for Open Science,\" we emphasize the importance of sharing and disseminating results to maximize the impact of our efforts. By openly sharing data and methodologies, we can enhance the reproducibility of scientific findings, encourage broader participation, and accelerate discoveries in biodiversity conservation. Our hands-on session will introduce participants to GitHub for version control and collaboration, and Zenodo for archiving and sharing research outputs, ensuring that all contributions are freely accessible for future use."
      ]
    },
    {
      "cell_type": "markdown",
      "metadata": {
        "id": "eQlScWTShlgk"
      },
      "source": [
        "### Background Information"
      ]
    },
    {
      "cell_type": "markdown",
      "metadata": {
        "id": "R7JgpgBSg2wV"
      },
      "source": [
        "Open science is a movement that emphasizes making scientific research more transparent, accessible, and reproducible. In biodiversity research, this approach is particularly critical as it enables broader participation, enhances collaboration, and supports sustainable development goals (SDGs), especially SDG 17: Partnerships for the Goals, which encourages collaboration for solving global challenges. The rise of data cubes in biodiversity monitoring offers a practical opportunity to apply open science principles, ensuring that research outputs—data, code, and results—are available for reuse, validation, and further exploration.  \n"
      ]
    },
    {
      "cell_type": "markdown",
      "metadata": {
        "id": "DJIZrqxuh9Je"
      },
      "source": [
        "**Open Science Principles**:\n",
        "1. **Transparency**: Sharing all aspects of the research process, from data collection and methodologies to results and interpretations, allows other researchers to understand how conclusions are reached.\n",
        "2. **Accessibility**: Ensuring that data, publications, and other research outputs are openly accessible to all stakeholders, including researchers, policymakers, and the public.\n",
        "3. **Reproducibility**: Facilitating the ability for others to replicate findings by providing complete datasets, code, and workflows. This is critical for ensuring the robustness of biodiversity research."
      ]
    },
    {
      "cell_type": "markdown",
      "metadata": {
        "id": "CxF8dV4Ih-65"
      },
      "source": [
        "### Tools for Open Science in Biodiversity Monitoring"
      ]
    },
    {
      "cell_type": "markdown",
      "metadata": {
        "id": "i88cyXWChS88"
      },
      "source": [
        "1. [**GitHub**](https://github.com/): GitHub is a widely used platform for version control and sharing code. It allows researchers to store, manage, and share code for analyses, as well as documentation and tutorials. GitHub repositories can be linked to services like Zenodo to generate Digital Object Identifiers (DOIs), which formalize citation and credit for code and datasets.\n",
        "\n",
        "2. [**Zenodo**](https://zenodo.org/):Zenodo is an open-access repository developed by CERN, designed to store and share research outputs, including datasets, code, and publications. It allows researchers to easily archive their research in compliance with Open Science mandates and provides DOIs to ensure proper citation.\n",
        "\n",
        "3. [**GBIF**](https://www.gbif.org/) (Global Biodiversity Information Facility): GBIF is a global database that allows sharing and accessing biodiversity data. Researchers can upload occurrence data from their studies and also retrieve datasets for analysis, ensuring transparency and accessibility in data sharing. The South African National Biodiversity Institute ([SANBI](https://www.sanbi.org/)), funded by the Department of Science and Innovation ([DSTI](https://www.dsti.gov.za/)), hosts the South African Voting Node of GBIF ([SANBI-GBIF](https://www.sanbi-gbif.org/)). \n",
        "\n",
        "4. [**Dryad**](https://datadryad.org/): Dryad is a curated resource for the open publication of datasets. It specializes in datasets related to biology and ecology, ensuring that research data is well-preserved, accessible, and easily citable.\n",
        "\n",
        "5. [**Figshare**](https://info.figshare.com/): Figshare is another general-purpose open repository where researchers can share research data, figures, and even entire projects. It provides detailed metadata and generates DOIs for uploaded content, promoting reuse and citation.\n",
        "\n",
        "6. [**OpenAIRE**](https://explore.openaire.eu/): OpenAIRE is an open science infrastructure that supports the European Commission’s Open Science agenda. It provides a platform for publishing and sharing research outputs, with a focus on making research easily accessible and interoperable.\n",
        "\n",
        "7. [**Open Research Europe**](https://www.ore.eu/): This platform offers open access to articles across a wide range of disciplines, including biodiversity. It emphasizes immediate publication followed by open peer review, promoting transparency and accessibility in scientific communication.\n",
        "\n",
        "8. [**DataONE**](https://www.dataone.org/): DataONE provides access to earth and environmental data from various repositories. It promotes best practices in data management, ensuring that data is shared in a way that supports reproducibility and reuse in biodiversity research.\n",
        "\n",
        "9. [**OSF**](https://osf.io/) (Open Science Framework): OSF is a platform for managing, sharing, and registering research projects. It allows researchers to share their work at any stage, from initial planning and data collection to analysis and publication.\n"
      ]
    },
    {
      "cell_type": "markdown",
      "metadata": {
        "id": "YLvOAvTQhZ1A"
      },
      "source": [
        "### Best Practices for Open Science in Biodiversity Research\n",
        "\n",
        "- **Pre-registration**: Documenting research hypotheses, methodologies, and analysis plans before data collection helps prevent bias and ensures transparency.\n",
        "- **Sharing Data and Code**: Releasing datasets and code alongside publications ensures that others can validate and build on the research. Using repositories like GitHub, Zenodo, and GBIF helps promote reuse.\n",
        "- **Documentation and Metadata**: Providing thorough documentation, including metadata, enhances the accessibility and usability of shared resources.\n",
        "- **Collaborative Platforms**: Tools like GitHub, OSF, and DataONE allow for ongoing collaboration and version control, ensuring that research remains transparent throughout its lifecycle.\n",
        "\n",
        "By incorporating these tools and principles, this final lecture will provide a comprehensive understanding of how open science enhances biodiversity monitoring, making research outputs more impactful, collaborative, and aligned with global sustainability goals."
      ]
    },
    {
      "cell_type": "markdown",
      "metadata": {
        "id": "vMrctNKWiEjc"
      },
      "source": [
        "### Hands-on with R in Colab"
      ]
    },
    {
      "cell_type": "markdown",
      "metadata": {
        "id": "FnZXJl1bLUeC"
      },
      "source": [
        "#### Install missing libraries"
      ]
    },
    {
      "cell_type": "code",
      "execution_count": null,
      "metadata": {
        "id": "AIe-at25jK5M"
      },
      "outputs": [],
      "source": [
        "# Install necessary packages\n",
        "if (!requireNamespace(\"httr\", quietly = TRUE)) {\n",
        "  install.packages(\"httr\")\n",
        "}\n",
        "if (!requireNamespace(\"jsonlite\", quietly = TRUE)) {\n",
        "  install.packages(\"jsonlite\")\n",
        "}\n",
        "if (!requireNamespace(\"sf\", quietly = TRUE)) {\n",
        "  install.packages(\"sf\")\n",
        "}\n",
        "if (!requireNamespace(\"ggplot2\", quietly = TRUE)) {\n",
        "  install.packages(\"ggplot2\")\n",
        "}"
      ]
    },
    {
      "cell_type": "markdown",
      "metadata": {
        "id": "RHGNvk_KLjsQ"
      },
      "source": [
        "#### Other potentially useful libraries"
      ]
    },
    {
      "cell_type": "code",
      "execution_count": null,
      "metadata": {
        "id": "HndJIDqoIASI"
      },
      "outputs": [],
      "source": [
        "# Install required packages\n",
        "# install.packages(\"zen4R\")\n",
        "\n",
        "# install.packages(\"zip\")\n",
        "# install.packages(\"tmap\") # Has a lot of dependencies\n",
        "# install.packages(\"reticulate\")\n"
      ]
    },
    {
      "cell_type": "code",
      "execution_count": null,
      "metadata": {
        "colab": {
          "base_uri": "https://localhost:8080/"
        },
        "id": "H8nzvp2WHS8t",
        "outputId": "81104e65-f9ff-4f5f-95b6-94a3603f1dcd"
      },
      "outputs": [],
      "source": [
        "# Load necessary libraries\n",
        "# library(zen4R)\n",
        "library(ggplot2)  # For plotting\n",
        "library(sf)       # For working with GeoPackage files\n",
        "\n",
        "library(httr)\n",
        "library(jsonlite)\n",
        "library(zip)      # For unzipping the file\n",
        "# library(tmap)     # Alternative plotting\n",
        "\n",
        "library(tidyr)   # For separating columns\n",
        "library(dplyr)   # For data manipulation if needed\n",
        "# library(reticulate)\n",
        "library(data.table)\n",
        "\n",
        "library(utils) # Add utils for unzip\n"
      ]
    },
    {
      "cell_type": "markdown",
      "metadata": {
        "id": "iN3YH2sPjGmO"
      },
      "source": [
        "![logo_gbif.png](data:image/png;base64,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)"
      ]
    },
    {
      "cell_type": "code",
      "execution_count": null,
      "metadata": {
        "id": "6wZSqXzNjG9B"
      },
      "outputs": [],
      "source": [
        "# Function to load a CSV file from a URL inside a ZIP\n",
        "load_from_url_zip <- function(zip_url) {\n",
        "  # Make an HTTP request to download the file\n",
        "  response <- GET(zip_url)\n",
        "\n",
        "  if (status_code(response) == 200) {\n",
        "    # Write the content to a temporary file\n",
        "    temp <- tempfile(fileext = \".zip\")\n",
        "    writeBin(content(response, \"raw\"), temp)\n",
        "\n",
        "    # Use utils::unzip to explicitly call the function from the utils package\n",
        "    csv_files <- utils::unzip(temp, list = TRUE)  # Add 'list = TRUE' to get file names\n",
        "\n",
        "    # Find the CSV file in the list (using file name instead of connection)\n",
        "    csv_file <- csv_files$Name[grepl(\"\\\\.csv$\", csv_files$Name)]\n",
        "\n",
        "    # Extract the CSV file to a temporary location\n",
        "    utils::unzip(temp, csv_file, exdir = tempdir()) # Explicit call\n",
        "\n",
        "    # Construct the full path to the extracted CSV file\n",
        "    csv_path <- file.path(tempdir(), csv_file)\n",
        "\n",
        "    # Read the CSV file using the extracted file path\n",
        "    df <- fread(csv_path, sep = \"\\t\", fill = TRUE, data.table = FALSE)\n",
        "\n",
        "    # Remove temporary files\n",
        "    unlink(temp)\n",
        "    unlink(csv_path)\n",
        "\n",
        "    return(df)\n",
        "  } else {\n",
        "    print(paste(\"Failed to download the file. Status code:\", status_code(response)))\n",
        "    return(NULL)\n",
        "  }\n",
        "}"
      ]
    },
    {
      "cell_type": "code",
      "execution_count": null,
      "metadata": {
        "id": "fXHdm9N3jOKs"
      },
      "outputs": [],
      "source": [
        "# URL path for the GBIF occurrence download\n",
        "url_zip <- 'https://api.gbif.org/v1/occurrence/download/request/0038969-240906103802322.zip'\n",
        "\n",
        "# Run the function to load the data\n",
        "df_url <- load_from_url_zip(url_zip)\n",
        "\n",
        "# Specify the columns to keep\n",
        "if (!is.null(df_url)) {\n",
        "  df_url <- df_url[, c(\"year\", \"month\", \"family\", \"speciesKey\", \"species\", \"decimalLatitude\", \"decimalLongitude\")]\n",
        "  head(df_url, 4)\n",
        "}"
      ]
    },
    {
      "cell_type": "markdown",
      "metadata": {
        "id": "OgDN2Sthjgjh"
      },
      "source": [
        "![logo_github.png](data:image/png;base64,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)"
      ]
    },
    {
      "cell_type": "code",
      "execution_count": null,
      "metadata": {
        "id": "lSd9DO7uh0fu"
      },
      "outputs": [],
      "source": [
        "# Read the CSV file from GitHub with tab delimiter\n",
        "za_data <- read.delim('https://raw.githubusercontent.com/nithecs-biomath/mini-schools/refs/heads/main/data/sample_data_SA.csv', sep = '\\t')\n",
        "head(za_data)\n"
      ]
    },
    {
      "cell_type": "code",
      "execution_count": null,
      "metadata": {
        "id": "98Dus3cJh2YW"
      },
      "outputs": [],
      "source": [
        "# Split 'yearmonth' into separate 'year' and 'month' columns\n",
        "za_data <- za_data %>%\n",
        "  separate(yearmonth, into = c(\"year\", \"month\"), sep = \"-\")\n",
        "\n",
        "# Preview the first 4 rows of the data\n",
        "head(za_data, 4)"
      ]
    },
    {
      "cell_type": "code",
      "execution_count": null,
      "metadata": {
        "id": "AMF47db0wtP5"
      },
      "outputs": [],
      "source": [
        "data_csv <- read.delim('https://raw.githubusercontent.com/nithecs-biomath/mini-schools/refs/heads/main/data/0038969-240906103802322.csv', sep = '\\t')\n",
        "head(data_csv, 4)"
      ]
    },
    {
      "cell_type": "code",
      "execution_count": null,
      "metadata": {
        "id": "jO9F2NghxL0r"
      },
      "outputs": [],
      "source": [
        "# Assuming df_url is already loaded as a data frame\n",
        "# Select the columns to keep\n",
        "data_csv <- data_csv %>%\n",
        "  select(year, month, family, speciesKey, species, decimalLatitude, decimalLongitude)\n",
        "\n",
        "# View the first 4 rows of the resulting data frame\n",
        "head(data_csv, 4)"
      ]
    },
    {
      "cell_type": "code",
      "execution_count": null,
      "metadata": {
        "id": "E_r1S_UBybQR"
      },
      "outputs": [],
      "source": [
        "# Convert to sf object\n",
        "species_points <- st_as_sf(data_csv, coords = c(\"decimalLongitude\", \"decimalLatitude\"), crs = 4326)\n",
        "print(head(species_points, 4))\n",
        "\n",
        "# Create the quarter-degree grid over the area of interest\n",
        "# Get the extent (bounding box) of the points\n",
        "bounds <- st_bbox(species_points)\n",
        "print(head(bounds))"
      ]
    },
    {
      "cell_type": "code",
      "execution_count": null,
      "metadata": {
        "id": "iaLFapDXybBj"
      },
      "outputs": [],
      "source": [
        "# Define cell size (0.25 for quarter-degree)\n",
        "cell_size <- 0.25\n",
        "\n",
        "# Create the grid (xmin, ymin, xmax, ymax)\n",
        "grid <- st_make_grid(\n",
        "  species_points,\n",
        "  cellsize = c(cell_size, cell_size),\n",
        "  square = TRUE,\n",
        "  what = \"polygons\"\n",
        ")\n",
        "\n",
        "# Convert grid to an sf object and assign grid IDs\n",
        "grid_sf <- st_sf(geometry = grid)\n",
        "grid_sf$gridID <- 1:nrow(grid_sf)\n",
        "print(head(grid_sf))\n",
        "\n",
        "# Perform spatial join to assign species to grid cells\n",
        "species_in_grid <- st_join(species_points, grid_sf, left = FALSE)\n",
        "print(head(species_in_grid))\n"
      ]
    },
    {
      "cell_type": "code",
      "execution_count": null,
      "metadata": {
        "id": "oMpTQX2Pyklq"
      },
      "outputs": [],
      "source": [
        "# Count unique species per grid cell\n",
        "species_count <- species_in_grid %>%\n",
        "  group_by(gridID) %>%\n",
        "  summarise(unique_species = n_distinct(species))\n",
        "print(head(species_count))\n"
      ]
    },
    {
      "cell_type": "code",
      "execution_count": null,
      "metadata": {
        "id": "28jgdANO0MIL"
      },
      "outputs": [],
      "source": [
        "# Perform spatial join to assign species to grid cells\n",
        "count_in_grid <- st_join(grid_sf, species_count, left = FALSE)\n",
        "print(head(count_in_grid))"
      ]
    },
    {
      "cell_type": "code",
      "execution_count": null,
      "metadata": {
        "id": "KXVX8Ot6ymHK"
      },
      "outputs": [],
      "source": [
        "# Clear the current plot page (if needed)\n",
        "# grid::grid.newpage()\n",
        "\n",
        "# Plot the grid with colors representing the count of unique species\n",
        "ggplot() +\n",
        "  geom_sf(data = count_in_grid, aes(fill = unique_species)) +\n",
        "  scale_fill_viridis_c(option = \"viridis\", direction=-1) + # Color scale for better visual representation\n",
        "  theme_minimal() +\n",
        "  ggtitle(\"Quarter-Degree Grid: Count of Unique Species\")"
      ]
    },
    {
      "cell_type": "code",
      "execution_count": null,
      "metadata": {
        "id": "fNAEIduy1I12"
      },
      "outputs": [],
      "source": [
        "# Increase plot size within Colab\n",
        "options(repr.plot.width = 12, repr.plot.height = 12)\n",
        "\n",
        "# Plot the grid with colors representing the count of unique species\n",
        "ggplot() +\n",
        "  geom_sf(data = count_in_grid, aes(fill = unique_species)) +\n",
        "\n",
        "  # Custom color gradient: blue, green, yellow, orange, red\n",
        "  scale_fill_gradientn(colors = c(\"blue\", \"green\", \"yellow\", \"orange\", \"red\")) +\n",
        "\n",
        "  # Adjust plot size for larger display in Colab\n",
        "  theme_minimal() +\n",
        "  ggtitle(\"Quarter-Degree Grid: Count of Unique Species\") +\n",
        "\n",
        "  # Use theme to adjust the plot size\n",
        "  theme(\n",
        "    plot.title = element_text(size = 20, face = \"bold\"),  # Increase title size\n",
        "    legend.title = element_text(size = 14),               # Increase legend title size\n",
        "    legend.text = element_text(size = 12),                # Increase legend text size\n",
        "    axis.title = element_text(size = 14),                 # Increase axis title size\n",
        "    axis.text = element_text(size = 12),                  # Increase axis text size\n",
        "    plot.margin = margin(10, 10, 10, 10),                 # Add margin for better visibility\n",
        "    plot.background = element_rect(fill = \"white\")        # Make sure the background is white\n",
        "  )"
      ]
    },
    {
      "cell_type": "markdown",
      "metadata": {
        "id": "0RsCqgXkkfO5"
      },
      "source": [
        "![logo_zenodo.png](data:image/png;base64,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)"
      ]
    },
    {
      "cell_type": "code",
      "execution_count": null,
      "metadata": {
        "id": "Ted1D4R-JnZm"
      },
      "outputs": [],
      "source": [
        "# Define the download URL for the CSV file\n",
        "file_url <- \"https://zenodo.org/records/8299696/files/WesternIndianOceanCoralDiversity.csv?download=1\"\n",
        "file_name <- \"WesternIndianOceanCoralDiversity.csv\"\n",
        "\n",
        "# Download the file from Zenodo\n",
        "download.file(file_url, destfile = file_name)\n",
        "\n",
        "# Load the dataset (assuming it's a CSV file)\n",
        "data <- read.csv(file_name)\n",
        "\n",
        "# View the first few rows of the data\n",
        "print(head(data, 4))"
      ]
    },
    {
      "cell_type": "code",
      "execution_count": null,
      "metadata": {
        "id": "9ENEgi-pIh_T"
      },
      "outputs": [],
      "source": [
        "# Define Zenodo API URL and dataset DOI\n",
        "zenodo_api_url <- \"https://zenodo.org/api/records/\"\n",
        "record_id <- \"8299696\"  # Record ID for your specific dataset\n",
        "\n",
        "# Fetch the metadata for the Zenodo record\n",
        "response <- GET(paste0(zenodo_api_url, record_id))\n",
        "metadata <- fromJSON(content(response, as = \"text\", encoding = \"UTF-8\"))\n",
        "\n",
        "# View the metadata\n",
        "# print(metadata)"
      ]
    },
    {
      "cell_type": "code",
      "execution_count": null,
      "metadata": {
        "id": "EEnjlSc2H-3g"
      },
      "outputs": [],
      "source": [
        "# Check the files available in this record\n",
        "files <- metadata$files\n",
        "# print(files)\n",
        "str(files)"
      ]
    },
    {
      "cell_type": "code",
      "execution_count": null,
      "metadata": {
        "id": "pUbAuv4uc4D_"
      },
      "outputs": [],
      "source": [
        "# Find the CSV file in the record\n",
        "csv_row_index <- which(grepl(\"\\\\.csv$\", files$key))  # Find the row index of the CSV file\n",
        "csv_file_url <- files[csv_row_index, \"links\"]$self # Extract the download URL\n",
        "csv_filename <- files[csv_row_index, \"key\"]        # Extract the filename\n",
        "\n",
        "# Print the extracted information\n",
        "print(csv_file_url)\n",
        "print(csv_filename)\n"
      ]
    },
    {
      "cell_type": "code",
      "execution_count": null,
      "metadata": {
        "id": "LT1qCOb9c67l"
      },
      "outputs": [],
      "source": [
        "# Download the file from Zenodo\n",
        "download.file(csv_file_url, destfile = csv_filename)\n",
        "\n",
        "# Load the dataset (assuming it's a CSV file)\n",
        "data <- read.csv(csv_filename)\n",
        "\n",
        "# View the first few rows of the data\n",
        "print(head(data))"
      ]
    },
    {
      "cell_type": "markdown",
      "metadata": {
        "id": "bdBo2ECUNaoi"
      },
      "source": [
        "## BONUS SECTION"
      ]
    },
    {
      "cell_type": "markdown",
      "metadata": {
        "id": "Jp0fO7zVoH0c"
      },
      "source": [
        "![logo_inat.png](data:image/png;base64,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)"
      ]
    },
    {
      "cell_type": "code",
      "execution_count": null,
      "metadata": {
        "id": "P9fsI73roqZd"
      },
      "outputs": [],
      "source": [
        "# Install necessary packages\n",
        "if (!requireNamespace(\"rinat\", quietly = TRUE)) {\n",
        "  install.packages(\"rinat\")\n",
        "}\n",
        "if (!requireNamespace(\"lubridate\", quietly = TRUE)) {\n",
        "  install.packages(\"lubridate\")\n",
        "}\n",
        "if (!requireNamespace(\"rnaturalearth\", quietly = TRUE)) {\n",
        "  install.packages(\"rnaturalearth\")\n",
        "}\n",
        "if (!requireNamespace(\"rnaturalearthdata\", quietly = TRUE)) {\n",
        "  install.packages(\"rnaturalearthdata\")\n",
        "}"
      ]
    },
    {
      "cell_type": "code",
      "execution_count": null,
      "metadata": {
        "colab": {
          "base_uri": "https://localhost:8080/"
        },
        "id": "YUbUYQO2Nx2h",
        "outputId": "a4598c3a-f91d-4ebc-8f0e-110bd1c1154a"
      },
      "outputs": [],
      "source": [
        "library(rinat)\n",
        "library(lubridate)\n",
        "library(rnaturalearth)\n",
        "library(rnaturalearthdata)"
      ]
    },
    {
      "cell_type": "code",
      "execution_count": null,
      "metadata": {
        "id": "PJ_4eB38o9dt"
      },
      "outputs": [],
      "source": [
        "# # Step 1: Download iNaturalist observations for South Africa\n",
        "# inat_data <- get_inat_obs(place_id = 6986, maxresults = 500)\n",
        "# print(head(inat_data, 2))\n"
      ]
    },
    {
      "cell_type": "code",
      "execution_count": null,
      "metadata": {
        "colab": {
          "base_uri": "https://localhost:8080/",
          "height": 436
        },
        "id": "CRSDIT0KuBQ2",
        "outputId": "9a5fdb2e-d3a5-40fe-a0d7-b442a1dc3f8d"
      },
      "outputs": [],
      "source": [
        "# Step 1: Download iNaturalist observations for South Africa\n",
        "inat_data <- data.frame()  # Initialize an empty data frame\n",
        "\n",
        "for (year in 2012:2023) {  # Loop through years (adjust years as needed)\n",
        "  for (month in 1:12) {  # Loop through months\n",
        "    # Download observations for the current year and month\n",
        "    temp_data <- get_inat_obs(\n",
        "      place_id = 6986,\n",
        "      maxresults = 50,    # Reduced maxresults\n",
        "      year = year,        # Added year filter\n",
        "      month = month       # Added month filter\n",
        "    )\n",
        "\n",
        "    # Append the filtered data to the main data frame\n",
        "    inat_data <- rbind(inat_data, temp_data)\n",
        "\n",
        "    # Print progress to monitor the loop\n",
        "    print(paste(\"Downloaded data for:\", year, \"-\", month))\n",
        "  }\n",
        "}"
      ]
    },
    {
      "cell_type": "code",
      "execution_count": null,
      "metadata": {
        "colab": {
          "base_uri": "https://localhost:8080/"
        },
        "id": "KYlmhNUEuwz8",
        "outputId": "d41f7d6d-9f6d-4976-c73a-3f9942959867"
      },
      "outputs": [],
      "source": [
        "print(head(inat_data, 4))"
      ]
    },
    {
      "cell_type": "code",
      "execution_count": null,
      "metadata": {
        "colab": {
          "base_uri": "https://localhost:8080/"
        },
        "id": "KA8go9t-uKH7",
        "outputId": "e23fe285-41be-4aaa-9dae-1e6d719c7efc"
      },
      "outputs": [],
      "source": [
        "# Step 1: Filter out records without coordinates and dates\n",
        "inat_data <- inat_data %>%\n",
        "  filter(!is.na(longitude) & !is.na(latitude) & !is.na(observed_on))\n",
        "print(dim(inat_data))\n",
        "\n",
        "# Step 2: Extract year from the date and calculate species richness\n",
        "inat_data <- inat_data %>%\n",
        "  mutate(year = year(observed_on)) # Extract year from observed_on\n",
        "print(dim(inat_data))"
      ]
    },
    {
      "cell_type": "code",
      "execution_count": null,
      "metadata": {
        "colab": {
          "base_uri": "https://localhost:8080/",
          "height": 73
        },
        "id": "jkKdZb1Kyy6h",
        "outputId": "215f1f78-09e5-47d5-ad59-5d17354fae1b"
      },
      "outputs": [],
      "source": [
        "# Step 1: Load SA polygon\n",
        "south_africa = ne_countries(\n",
        "  scale      = \"medium\",\n",
        "  country    = \"South Africa\",\n",
        "  returnclass= \"sf\"\n",
        ")\n",
        "\n",
        "# Step 2: Define your extent as an sf bbox (xmin, ymin, xmax, ymax)\n",
        "my_bbox = st_bbox(\n",
        "  c(xmin = 16.450,\n",
        "    ymin = -34.835,\n",
        "    xmax = 32.945,\n",
        "    ymax = -22.125),\n",
        "  crs = st_crs(south_africa)\n",
        ")\n",
        "\n",
        "# Step 3: Crop\n",
        "south_africa_noIslands = st_crop(south_africa, my_bbox)\n",
        "# names(south_africa_noIslands)"
      ]
    },
    {
      "cell_type": "code",
      "execution_count": null,
      "metadata": {
        "colab": {
          "base_uri": "https://localhost:8080/",
          "height": 917
        },
        "id": "BrKFXqOCpAm8",
        "outputId": "11fee3d0-e72d-43ba-c71a-626f7d12c49a"
      },
      "outputs": [],
      "source": [
        "# Increase plot size within Colab\n",
        "options(repr.plot.width = 10, repr.plot.height = 15)\n",
        "\n",
        "# Step 4: Plot iNaturalist records on a map\n",
        "ggplot() +\n",
        "  geom_sf(data = south_africa_noIslands, fill = \"lightgreen\", color = \"black\") +\n",
        "  geom_point(data = inat_data, aes(x = longitude, y = latitude), color = \"blue\", alpha = 0.6) +\n",
        "  labs(title = \"iNaturalist Observations in South Africa\",\n",
        "       x = \"Longitude\", y = \"Latitude\") +\n",
        "  theme_minimal()"
      ]
    },
    {
      "cell_type": "code",
      "execution_count": null,
      "metadata": {
        "id": "6ve2HWNVrDIi"
      },
      "outputs": [],
      "source": [
        "# Step 5: Group by year and calculate species richness and observation count per year\n",
        "yearly_stats <- inat_data %>%\n",
        "  group_by(year) %>%\n",
        "  summarise(\n",
        "    species_richness = n_distinct(scientific_name),  # Unique species count\n",
        "    observation_count = n()  # Total observations\n",
        "  ) %>%\n",
        "  ungroup()\n",
        "\n",
        "# Step 5: Add confidence intervals based on observation count\n",
        "# Assuming we can use a basic approximation for CI: 1.96 * (species richness / sqrt(observation count))\n",
        "yearly_stats <- yearly_stats %>%\n",
        "  mutate(\n",
        "    ci_upper = species_richness + 1.96 * (species_richness / sqrt(observation_count)),\n",
        "    ci_lower = species_richness - 1.96 * (species_richness / sqrt(observation_count))\n",
        "  )"
      ]
    },
    {
      "cell_type": "code",
      "execution_count": null,
      "metadata": {
        "colab": {
          "base_uri": "https://localhost:8080/",
          "height": 617
        },
        "id": "Kq35WDwnrIZq",
        "outputId": "6debbdd6-59ae-4d17-fab3-8b00e2037dae"
      },
      "outputs": [],
      "source": [
        "# Increase plot size within Colab\n",
        "options(repr.plot.width = 15, repr.plot.height = 10)\n",
        "\n",
        "# Step 6: Plot the species richness over time with confidence intervals\n",
        "ggplot(yearly_stats, aes(x = year, y = species_richness)) +\n",
        "  geom_line(color = \"blue\", size = 1) +\n",
        "  geom_ribbon(aes(ymin = ci_lower, ymax = ci_upper), alpha = 0.2, fill = \"lightblue\") +\n",
        "  labs(title = \"Species Richness Over Time (iNaturalist Observations)\",\n",
        "       x = \"Year\", y = \"Species Richness\") +\n",
        "  theme_minimal()"
      ]
    },
    {
      "cell_type": "markdown",
      "metadata": {
        "id": "AQ9wCdWDFMzr"
      },
      "source": [
        "This code demonstrates how to retrieve data from Zenodo using the Zenodo API in R. It provides the basic steps for accessing metadata and downloading files linked to a Zenodo dataset."
      ]
    }
  ],
  "metadata": {
    "colab": {
      "authorship_tag": "ABX9TyO0oAK+q2SL2qfvGHYwPLIj",
      "include_colab_link": true,
      "provenance": [],
      "toc_visible": true
    },
    "kernelspec": {
      "display_name": "Julia 1.11.3",
      "language": "julia",
      "name": "julia-1.11"
    },
    "language_info": {
      "name": "julia"
    }
  },
  "nbformat": 4,
  "nbformat_minor": 0
}
